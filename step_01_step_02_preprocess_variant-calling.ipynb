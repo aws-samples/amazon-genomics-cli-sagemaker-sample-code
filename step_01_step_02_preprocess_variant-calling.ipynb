{
 "cells": [
  {
   "cell_type": "markdown",
   "id": "70e874fe",
   "metadata": {},
   "source": [
    " Copyright Amazon.com, Inc. or its affiliates. All Rights Reserved. SPDX-License-Identifier: MIT-0"
   ]
  },
  {
   "cell_type": "markdown",
   "id": "70e874fe",
   "metadata": {},
   "source": [
    "## Install node.js"
   ]
  },
  {
   "cell_type": "code",
   "execution_count": null,
   "id": "075e18ee",
   "metadata": {},
   "outputs": [],
   "source": [
    "!curl -sL https://rpm.nodesource.com/setup_16.x | sudo -E bash -\n",
    "!sudo yum install -y nodejs"
   ]
  },
  {
   "cell_type": "markdown",
   "id": "b4b3a83f",
   "metadata": {},
   "source": [
    "## Install Amazon Genomics CLI (agc)"
   ]
  },
  {
   "cell_type": "code",
   "execution_count": null,
   "id": "0980322a",
   "metadata": {},
   "outputs": [],
   "source": [
    "!wget https://github.com/aws/amazon-genomics-cli/releases/download/v1.3.0/amazon-genomics-cli-1.3.0.zip\n",
    "!unzip -o amazon-genomics-cli-1.3.0.zip  \n",
    "!./amazon-genomics-cli/install.sh\n",
    "!export PATH=\\$PATH:\\$HOME/bin"
   ]
  },
  {
   "cell_type": "markdown",
   "id": "d1dfcec1",
   "metadata": {},
   "source": [
    "## Setup Amazon Genomics CLI (agc)"
   ]
  },
  {
   "cell_type": "markdown",
   "id": "9dba2fff",
   "metadata": {},
   "source": [
    "see [Getting-started Tutorial AGC](https://aws.github.io/amazon-genomics-cli/docs/getting-started/)"
   ]
  },
  {
   "cell_type": "code",
   "execution_count": null,
   "id": "4a8849ab",
   "metadata": {},
   "outputs": [],
   "source": [
    "import os\n",
    "os.chdir(os.environ[\"HOME\"]+\"/SageMaker/blog_genomics-analysis-agc-sagemaker/agc_project\")\n",
    "os.environ[\"PATH\"] += os.pathsep + os.environ[\"HOME\"]+\"/bin\""
   ]
  },
  {
   "cell_type": "code",
   "execution_count": null,
   "id": "58dc6e0c",
   "metadata": {},
   "outputs": [],
   "source": [
    "!agc account activate"
   ]
  },
  {
   "cell_type": "code",
   "execution_count": null,
   "id": "fb48c7fb",
   "metadata": {},
   "outputs": [],
   "source": [
    "!agc configure email arlnocaj@amazon.com"
   ]
  },
  {
   "cell_type": "markdown",
   "id": "c1650745",
   "metadata": {},
   "source": [
    "## Run preprocessing workflow (fetchngs from nf-core)"
   ]
  },
  {
   "cell_type": "markdown",
   "id": "e4f70008",
   "metadata": {},
   "source": [
    "downloads genomics files in SRA format and converts to fastq format"
   ]
  },
  {
   "cell_type": "code",
   "execution_count": null,
   "id": "974d6ef2",
   "metadata": {},
   "outputs": [],
   "source": [
    "!aws s3 cp workflows/fetchngs/ids.txt s3://roda3/"
   ]
  },
  {
   "cell_type": "code",
   "execution_count": null,
   "id": "b99ea6bd",
   "metadata": {},
   "outputs": [],
   "source": [
    "!agc context deploy --context bigMemCtx"
   ]
  },
  {
   "cell_type": "code",
   "execution_count": null,
   "id": "51b31d50",
   "metadata": {},
   "outputs": [],
   "source": [
    "!agc workflow run fetchngs --context bigMemCtx"
   ]
  },
  {
   "cell_type": "code",
   "execution_count": null,
   "id": "0fd7e325",
   "metadata": {},
   "outputs": [],
   "source": [
    "!agc logs engine --context bigMemCtx"
   ]
  },
  {
   "cell_type": "markdown",
   "id": "d584820f",
   "metadata": {},
   "source": [
    "## Run variant calling using sarek workflow"
   ]
  },
  {
   "cell_type": "code",
   "execution_count": null,
   "id": "fd1f0f81",
   "metadata": {},
   "outputs": [],
   "source": [
    "!aws s3 cp workflows/sarek/input-sample2_v2.tsv s3://roda3/input-sample2_v2.tsv"
   ]
  },
  {
   "cell_type": "code",
   "execution_count": null,
   "id": "184fb896",
   "metadata": {},
   "outputs": [],
   "source": [
    "!agc context deploy --context bigMemCtxSpot"
   ]
  },
  {
   "cell_type": "code",
   "execution_count": null,
   "id": "64877eb1",
   "metadata": {},
   "outputs": [],
   "source": [
    "!agc workflow run sarek --context bigMemCtxSpot"
   ]
  },
  {
   "cell_type": "code",
   "execution_count": null,
   "id": "6b9bcddd",
   "metadata": {},
   "outputs": [],
   "source": [
    "!agc logs engine --context bigMemCtxSpot"
   ]
  },
  {
   "cell_type": "markdown",
   "id": "c18ede39",
   "metadata": {},
   "source": [
    "## Extract and Analyze Mutations"
   ]
  },
  {
   "cell_type": "markdown",
   "id": "b64fcdc4",
   "metadata": {},
   "source": [
    "see `step_03_Analtics_r.ipynb` notebook"
   ]
  }
 ],
 "metadata": {
  "kernelspec": {
   "display_name": "conda_python3",
   "language": "python",
   "name": "conda_python3"
  },
  "language_info": {
   "codemirror_mode": {
    "name": "ipython",
    "version": 3
   },
   "file_extension": ".py",
   "mimetype": "text/x-python",
   "name": "python",
   "nbconvert_exporter": "python",
   "pygments_lexer": "ipython3",
   "version": "3.6.13"
  }
 },
 "nbformat": 4,
 "nbformat_minor": 5
}
